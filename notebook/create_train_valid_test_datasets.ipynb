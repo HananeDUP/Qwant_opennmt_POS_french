{
 "cells": [
  {
   "cell_type": "code",
   "execution_count": 1,
   "metadata": {},
   "outputs": [],
   "source": [
    "import os\n",
    "import numpy as np\n",
    "import codecs\n",
    "import random\n",
    "from time import time()"
   ]
  },
  {
   "cell_type": "code",
   "execution_count": 3,
   "metadata": {},
   "outputs": [],
   "source": [
    "# def get_all_sentences_from_txt(file_name):\n",
    "#     sentences=[]\n",
    "#     f = open(file_name, 'rt')\n",
    "#     sentences_words=[]\n",
    "#     for line in f:\n",
    "#         sentences.append(line)\n",
    "#     f.close()\n",
    "#     return sentences\n",
    "\n",
    "# def save_to_txt(sentences_array,file_output_name):\n",
    "#     if os.path.isfile(file_output_name):\n",
    "#         os.remove(file_output_name)\n",
    "#     with open(file_output_name, \"a\") as a_file:\n",
    "#         for elem in sentences_array:\n",
    "#             a_file.write(elem)\n",
    "#             a_file.write(\"\\n\")\n",
    "#     a_file.close()"
   ]
  },
  {
   "cell_type": "code",
   "execution_count": 4,
   "metadata": {},
   "outputs": [],
   "source": [
    "# train_words=get_all_sentences_from_txt(\"../dataset/raw/wiki_words_bitext_pos.txt\")\n",
    "# train_tags=get_all_sentences_from_txt(\"../dataset/raw/wiki_tags_bitext_pos.txt\")"
   ]
  },
  {
   "cell_type": "markdown",
   "metadata": {},
   "source": [
    "## Split Train, Valid and Test datasets"
   ]
  },
  {
   "cell_type": "code",
   "execution_count": 14,
   "metadata": {},
   "outputs": [
    {
     "name": "stdout",
     "output_type": "stream",
     "text": [
      "1346363\n"
     ]
    },
    {
     "data": {
      "text/plain": [
       "1514658"
      ]
     },
     "execution_count": 14,
     "metadata": {},
     "output_type": "execute_result"
    }
   ],
   "source": [
    "len_dataset=en(train_tags)\n",
    "train_f=int(0.8*len_dataset)\n",
    "print(train_f)\n",
    "valid_f=int(0.9*len_dataset)\n",
    "valid_f"
   ]
  },
  {
   "cell_type": "code",
   "execution_count": null,
   "metadata": {},
   "outputs": [],
   "source": [
    "sed -n '1,1346363p;1346364q' wiki_words_bitext_pos.txt > ../train_valid/wiki_train_words_bitext_pos.txt\n",
    "sed -n '1,1346363p;1346364q' wiki_tags_bitext_pos.txt > ../train_valid/wiki_train_tags_bitext_pos.txt\n",
    "\n",
    "sed -n '1346364,1514658p;1514659q' wiki_words_bitext_pos.txt > ../train_valid/wiki_valid_words_bitext_pos.txt\n",
    "sed -n '1346364,1514658p;1514659q' wiki_tags_bitext_pos.txt > ../train_valid/wiki_valid_tags_bitext_pos.txt\n",
    "\n",
    "sed -n '1514659,1682954p' wiki_words_bitext_pos.txt > ../train_valid/wiki_test_words_bitext_pos.txt\n",
    "sed -n '1514659,1682954p' wiki_tags_bitext_pos.txt > ../train_valid/wiki_test_tags_bitext_pos.txt"
   ]
  },
  {
   "cell_type": "markdown",
   "metadata": {},
   "source": [
    "### Generate vocabularies ==> word, tag and tkt"
   ]
  },
  {
   "cell_type": "markdown",
   "metadata": {},
   "source": [
    "##### Word vocab"
   ]
  },
  {
   "cell_type": "code",
   "execution_count": 17,
   "metadata": {},
   "outputs": [
    {
     "name": "stdout",
     "output_type": "stream",
     "text": [
      "Wall time: 53.6 s\n"
     ]
    },
    {
     "name": "stderr",
     "output_type": "stream",
     "text": [
      "2020-08-09 23:23:10.248729: W tensorflow/stream_executor/platform/default/dso_loader.cc:55] Could not load dynamic library 'cudart64_101.dll'; dlerror: cudart64_101.dll not found\n",
      "2020-08-09 23:23:10.250171: I tensorflow/stream_executor/cuda/cudart_stub.cc:29] Ignore above cudart dlerror if you do not have a GPU set up on your machine.\n",
      "2020-08-09 23:23:19.661410: W tensorflow/stream_executor/platform/default/dso_loader.cc:55] Could not load dynamic library 'nvcuda.dll'; dlerror: nvcuda.dll not found\n",
      "2020-08-09 23:23:19.663697: E tensorflow/stream_executor/cuda/cuda_driver.cc:351] failed call to cuInit: UNKNOWN ERROR (303)\n",
      "2020-08-09 23:23:19.681906: I tensorflow/stream_executor/cuda/cuda_diagnostics.cc:169] retrieving CUDA diagnostic information for host: LAPTOP-79FP3JFQ\n",
      "2020-08-09 23:23:19.683028: I tensorflow/stream_executor/cuda/cuda_diagnostics.cc:176] hostname: LAPTOP-79FP3JFQ\n",
      "2020-08-09 23:23:19.691300: I tensorflow/core/platform/cpu_feature_guard.cc:142] Your CPU supports instructions that this TensorFlow binary was not compiled to use: AVX2\n"
     ]
    }
   ],
   "source": [
    "%%time\n",
    "#254294 rows\n",
    "!onmt-build-vocab --size 1000000 --save_vocab ../dataset/train_valid/wiki-src-train-vocab.txt ../dataset/train_valid/wiki_train_words_bitext.txt"
   ]
  },
  {
   "cell_type": "markdown",
   "metadata": {},
   "source": [
    "##### Target vocab"
   ]
  },
  {
   "cell_type": "code",
   "execution_count": 18,
   "metadata": {},
   "outputs": [
    {
     "name": "stdout",
     "output_type": "stream",
     "text": [
      "Wall time: 39.5 s\n"
     ]
    },
    {
     "name": "stderr",
     "output_type": "stream",
     "text": [
      "2020-08-09 23:24:08.397356: W tensorflow/stream_executor/platform/default/dso_loader.cc:55] Could not load dynamic library 'cudart64_101.dll'; dlerror: cudart64_101.dll not found\n",
      "2020-08-09 23:24:08.397974: I tensorflow/stream_executor/cuda/cudart_stub.cc:29] Ignore above cudart dlerror if you do not have a GPU set up on your machine.\n",
      "2020-08-09 23:24:13.033383: W tensorflow/stream_executor/platform/default/dso_loader.cc:55] Could not load dynamic library 'nvcuda.dll'; dlerror: nvcuda.dll not found\n",
      "2020-08-09 23:24:13.034059: E tensorflow/stream_executor/cuda/cuda_driver.cc:351] failed call to cuInit: UNKNOWN ERROR (303)\n",
      "2020-08-09 23:24:13.043040: I tensorflow/stream_executor/cuda/cuda_diagnostics.cc:169] retrieving CUDA diagnostic information for host: LAPTOP-79FP3JFQ\n",
      "2020-08-09 23:24:13.043899: I tensorflow/stream_executor/cuda/cuda_diagnostics.cc:176] hostname: LAPTOP-79FP3JFQ\n",
      "2020-08-09 23:24:13.044743: I tensorflow/core/platform/cpu_feature_guard.cc:142] Your CPU supports instructions that this TensorFlow binary was not compiled to use: AVX2\n"
     ]
    }
   ],
   "source": [
    "%%time\n",
    "!onmt-build-vocab --size 1000 --save_vocab ../dataset/train_valid/wiki-tgt-train-vocab.txt ../dataset/train_valid/wiki_train_tags_bitext.txt"
   ]
  },
  {
   "cell_type": "markdown",
   "metadata": {},
   "source": [
    "##### Tokenize Characters"
   ]
  },
  {
   "cell_type": "code",
   "execution_count": 19,
   "metadata": {},
   "outputs": [
    {
     "name": "stdout",
     "output_type": "stream",
     "text": [
      "Wall time: 1min 16s\n"
     ]
    },
    {
     "name": "stderr",
     "output_type": "stream",
     "text": [
      "2020-08-09 23:24:53.613459: W tensorflow/stream_executor/platform/default/dso_loader.cc:55] Could not load dynamic library 'cudart64_101.dll'; dlerror: cudart64_101.dll not found\n",
      "2020-08-09 23:24:53.614928: I tensorflow/stream_executor/cuda/cudart_stub.cc:29] Ignore above cudart dlerror if you do not have a GPU set up on your machine.\n",
      "2020-08-09 23:24:57.252575: W tensorflow/stream_executor/platform/default/dso_loader.cc:55] Could not load dynamic library 'nvcuda.dll'; dlerror: nvcuda.dll not found\n",
      "2020-08-09 23:24:57.253148: E tensorflow/stream_executor/cuda/cuda_driver.cc:351] failed call to cuInit: UNKNOWN ERROR (303)\n",
      "2020-08-09 23:24:57.261859: I tensorflow/stream_executor/cuda/cuda_diagnostics.cc:169] retrieving CUDA diagnostic information for host: LAPTOP-79FP3JFQ\n",
      "2020-08-09 23:24:57.263179: I tensorflow/stream_executor/cuda/cuda_diagnostics.cc:176] hostname: LAPTOP-79FP3JFQ\n",
      "2020-08-09 23:24:57.263908: I tensorflow/core/platform/cpu_feature_guard.cc:142] Your CPU supports instructions that this TensorFlow binary was not compiled to use: AVX2\n"
     ]
    }
   ],
   "source": [
    "%%time\n",
    "!onmt-build-vocab --tokenizer_config ../config/char_tokenization.yml --size 10000 --save_vocab ../dataset/train_valid/wiki-src-train-tkt-vocab.txt ../dataset/train_valid/wiki_train_words_bitext.txt"
   ]
  },
  {
   "cell_type": "code",
   "execution_count": null,
   "metadata": {},
   "outputs": [],
   "source": [
    "$ wc -l wiki*\n",
    "   168296 wiki_test_tags_bitext.txt\n",
    "   168296 wiki_test_words_bitext.txt\n",
    "  1346363 wiki_train_tags_bitext.txt\n",
    "  1346363 wiki_train_words_bitext.txt\n",
    "   168295 wiki_valid_tags_bitext.txt\n",
    "   168295 wiki_valid_words_bitext.txt\n",
    "      189 wiki-src-train-tkt-vocab.txt\n",
    "   447265 wiki-src-train-vocab.txt\n",
    "       86 wiki-tgt-train-vocab.txt\n",
    "  3813448 total\n"
   ]
  }
 ],
 "metadata": {
  "kernelspec": {
   "display_name": "Python 3",
   "language": "python",
   "name": "python3"
  },
  "language_info": {
   "codemirror_mode": {
    "name": "ipython",
    "version": 3
   },
   "file_extension": ".py",
   "mimetype": "text/x-python",
   "name": "python",
   "nbconvert_exporter": "python",
   "pygments_lexer": "ipython3",
   "version": "3.7.6"
  }
 },
 "nbformat": 4,
 "nbformat_minor": 4
}
